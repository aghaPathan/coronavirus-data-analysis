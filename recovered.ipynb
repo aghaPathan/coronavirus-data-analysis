{
 "cells": [
  {
   "cell_type": "code",
   "execution_count": 1,
   "metadata": {},
   "outputs": [],
   "source": [
    "import pandas as pd\n",
    "import matplotlib.pyplot as plt"
   ]
  },
  {
   "cell_type": "markdown",
   "metadata": {},
   "source": [
    "## Loading dataset"
   ]
  },
  {
   "cell_type": "code",
   "execution_count": 3,
   "metadata": {},
   "outputs": [],
   "source": [
    "confirmed_dataframe = pd.read_csv('time_series_covid_19_confirmed.csv')\n",
    "confirmed_dataframe = confirmed_dataframe.drop(['Lat', 'Long'], axis=1)\n",
    "confirmed_array = confirmed_dataframe.values\n",
    "\n",
    "dead_dataframe = pd.read_csv('time_series_covid_19_deaths.csv')\n",
    "dead_dataframe = dead_dataframe.drop(['Lat', 'Long'], axis=1)\n",
    "dead_array = dead_dataframe.values\n",
    "\n",
    "recovered_dataframe = pd.read_csv('time_series_covid_19_recovered.csv')\n",
    "recovered_dataframe = recovered_dataframe.drop(['Lat', 'Long'], axis=1)\n",
    "recovered_array = recovered_dataframe.values"
   ]
  },
  {
   "cell_type": "markdown",
   "metadata": {},
   "source": [
    "## Preprocessing"
   ]
  },
  {
   "cell_type": "code",
   "execution_count": 5,
   "metadata": {},
   "outputs": [
    {
     "name": "stdout",
     "output_type": "stream",
     "text": [
      "{'Anhui': 987, 'Beijing': 395, 'Jiangxi': 934, 'Shandong': 546, 'Hainan': 168, 'Henan': 1265, 'Guizhou': 146, 'Guangxi': 245, 'Tibet': 1, 'Ningxia': 71, 'Qinghai': 18, 'Hunan': 1010, 'Xinjiang': 76, 'Gansu': 91, 'Jilin': 91, 'Shanghai': 334, 'Yunnan': 174, 'Heilongjiang': 476, 'Guangdong': 1332, 'Fujian': 293, 'Sichuan': 520, 'Zhejiang': 1175, 'Jiangsu': 631, 'Hebei': 307, 'Shanxi': 132, 'Chongqing': 567, 'Inner Mongolia': 75, 'Shaanxi': 245, 'Tianjin': 131, 'Hubei': 62442, 'Liaoning': 121}\n",
      "{'France': 12, 'Iran': 5, 'Philippines': 3, 'India': 3, 'Malaysia': 22, 'Japan': 94, 'Nepal': 1, 'Italy': 3, 'Egypt': 1, 'Mainland China': 74999, 'South Korea': 104, 'United Arab Emirates': 9, 'Spain': 2, 'Cambodia': 1, 'Belgium': 1, 'Singapore': 84, 'Sri Lanka': 1, 'Taiwan': 24, 'US': 15, 'Russia': 2, 'Hong Kong': 68, 'Sweden': 1, 'Thailand': 35, 'Finland': 1, 'Canada': 8, 'Macau': 10, 'Vietnam': 16, 'Australia': 15, 'UK': 9, 'Germany': 16}\n"
     ]
    }
   ],
   "source": [
    "# Confirmed infected cases\n",
    "\n",
    "china_cities_confirmed_dict = {}\n",
    "countries_confirmed_dict = {}\n",
    "\n",
    "for row in confirmed_array:\n",
    "    \n",
    "    # entering cities\n",
    "    if row[1] == 'Mainland China':\n",
    "        china_cities_confirmed_dict[row[0]] = row[-1]\n",
    "        \n",
    "    # entering countries\n",
    "    if row[1] in countries_confirmed_dict:\n",
    "        \n",
    "        temp = countries_confirmed_dict[row[1]]\n",
    "        countries_confirmed_dict[row[1]] = (temp + row[-1])\n",
    "        \n",
    "    else:\n",
    "        \n",
    "        if  row[1] == 'Others':\n",
    "            pass\n",
    "        \n",
    "        else:\n",
    "            countries_confirmed_dict[row[1]] = row[-1]\n",
    "        \n",
    "print(china_cities_confirmed_dict)\n",
    "\n",
    "print(countries_confirmed_dict)\n"
   ]
  },
  {
   "cell_type": "code",
   "execution_count": 6,
   "metadata": {},
   "outputs": [
    {
     "name": "stdout",
     "output_type": "stream",
     "text": [
      "{'Anhui': 6, 'Beijing': 4, 'Jiangxi': 1, 'Shandong': 4, 'Hainan': 4, 'Henan': 19, 'Guizhou': 2, 'Guangxi': 2, 'Tibet': 0, 'Ningxia': 0, 'Qinghai': 0, 'Hunan': 4, 'Xinjiang': 1, 'Gansu': 2, 'Jilin': 1, 'Shanghai': 2, 'Yunnan': 2, 'Heilongjiang': 12, 'Guangdong': 5, 'Fujian': 1, 'Sichuan': 3, 'Zhejiang': 1, 'Jiangsu': 0, 'Hebei': 5, 'Shanxi': 0, 'Chongqing': 6, 'Inner Mongolia': 0, 'Shaanxi': 1, 'Tianjin': 3, 'Hubei': 2144, 'Liaoning': 1}\n",
      "{'France': 12, 'Iran': 5, 'Philippines': 3, 'India': 3, 'Malaysia': 22, 'Japan': 94, 'Nepal': 1, 'Italy': 3, 'Egypt': 1, 'Mainland China': 74999, 'South Korea': 104, 'United Arab Emirates': 9, 'Spain': 2, 'Cambodia': 1, 'Belgium': 1, 'Singapore': 84, 'Sri Lanka': 1, 'Taiwan': 24, 'US': 15, 'Russia': 2, 'Hong Kong': 68, 'Sweden': 1, 'Thailand': 35, 'Finland': 1, 'Canada': 8, 'Macau': 10, 'Vietnam': 16, 'Australia': 15, 'UK': 9, 'Germany': 16}\n"
     ]
    }
   ],
   "source": [
    "# Dead Toll Cases\n",
    "\n",
    "china_cities_dead_dict = {}\n",
    "countries_dead_dict = {}\n",
    "\n",
    "for row in dead_array:\n",
    "    \n",
    "    # entering cities\n",
    "    if row[1] == 'Mainland China':\n",
    "        china_cities_dead_dict[row[0]] = row[-1]\n",
    "        \n",
    "    # entering countries\n",
    "    if row[1] not in countries_dead_dict:\n",
    "        \n",
    "        if  row[1] == 'Others':\n",
    "            pass\n",
    "        else:\n",
    "            countries_dead_dict[row[1]] = row[-1]\n",
    "        \n",
    "    else:\n",
    "        temp = countries_dead_dict[row[1]]\n",
    "        countries_dead_dict[row[1]] = temp + row[-1]\n",
    "        \n",
    "print(china_cities_dead_dict)\n",
    "\n",
    "print(countries_confirmed_dict)"
   ]
  },
  {
   "cell_type": "code",
   "execution_count": 7,
   "metadata": {
    "scrolled": false
   },
   "outputs": [
    {
     "name": "stdout",
     "output_type": "stream",
     "text": [
      "{'Anhui': 474, 'Beijing': 153, 'Jiangxi': 433, 'Shandong': 254, 'Hainan': 86, 'Henan': 637, 'Guizhou': 72, 'Guangxi': 90, 'Tibet': 1, 'Ningxia': 44, 'Qinghai': 16, 'Hunan': 634, 'Xinjiang': 22, 'Gansu': 71, 'Jilin': 43, 'Shanghai': 199, 'Yunnan': 79, 'Heilongjiang': 136, 'Guangdong': 642, 'Fujian': 126, 'Sichuan': 217, 'Zhejiang': 633, 'Jiangsu': 356, 'Hebei': 169, 'Shanxi': 76, 'Chongqing': 299, 'Inner Mongolia': 16, 'Shaanxi': 118, 'Tianjin': 59, 'Hubei': 11788, 'Liaoning': 59}\n",
      "{'France': 4, 'Iran': 0, 'Philippines': 1, 'India': 3, 'Malaysia': 15, 'Japan': 18, 'Nepal': 1, 'Italy': 0, 'Egypt': 0, 'Mainland China': 18002, 'South Korea': 16, 'United Arab Emirates': 4, 'Spain': 2, 'Cambodia': 1, 'Belgium': 1, 'Singapore': 34, 'Sri Lanka': 1, 'Taiwan': 2, 'US': 3, 'Russia': 2, 'Hong Kong': 6, 'Sweden': 0, 'Thailand': 15, 'Finland': 1, 'Canada': 1, 'Macau': 6, 'Vietnam': 7, 'Australia': 10, 'UK': 8, 'Germany': 12}\n"
     ]
    }
   ],
   "source": [
    "# Infected Cases\n",
    "\n",
    "china_cities_recovered_dict = {}\n",
    "countries_recovered_dict = {}\n",
    "\n",
    "for row in recovered_array:\n",
    "    \n",
    "    # entering cities\n",
    "    if row[1] == 'Mainland China':\n",
    "        china_cities_recovered_dict[row[0]] = row[-1]\n",
    "        \n",
    "    # entering countries\n",
    "    if row[1] not in countries_recovered_dict:\n",
    "        \n",
    "        if row[1] == 'Others':\n",
    "            pass\n",
    "        else:\n",
    "            countries_recovered_dict[row[1]] = row[-1]\n",
    "        \n",
    "    else:\n",
    "        temp = countries_recovered_dict[row[1]]\n",
    "        countries_recovered_dict[row[1]] = temp + row[-1]\n",
    "        \n",
    "print(china_cities_recovered_dict)\n",
    "\n",
    "print(countries_recovered_dict)"
   ]
  },
  {
   "cell_type": "markdown",
   "metadata": {},
   "source": [
    "## Functions"
   ]
  },
  {
   "cell_type": "code",
   "execution_count": 8,
   "metadata": {},
   "outputs": [],
   "source": [
    "\n",
    "def get_percentage(obtain, total):\n",
    "    \n",
    "    return (obtain/total)*100\n",
    "\n",
    "\n",
    "\n",
    "def get_graph(key):\n",
    "    \n",
    "    fig2, ax2 = plt.subplots()\n",
    "    labels = []\n",
    "    sizes = []\n",
    "\n",
    "    labels.append('Dead')\n",
    "    sizes.append(get_percentage(countries_dead_dict[key], countries_confirmed_dict[key]))\n",
    "    labels.append('Recovered')\n",
    "    sizes.append(get_percentage(countries_recovered_dict[key], countries_confirmed_dict[key]))\n",
    "    labels.append('Under Observation')\n",
    "    sizes.append(get_percentage(countries_confirmed_dict[key] - (countries_dead_dict[key] + countries_recovered_dict[key]) , countries_confirmed_dict[key]))\n",
    "\n",
    "    explode = (0.2,0,0)\n",
    "    \n",
    "    plt.title('In {}, out of {} affected by Coronavirus.'.format(key, countries_confirmed_dict[key]))\n",
    "    ax2.pie(sizes, explode=explode, radius=5, labels=labels, autopct='%1.1f%%', colors=['r', 'g', 'm'],\n",
    "            shadow=True, startangle=45)\n",
    "    ax2.axis('equal')  # Equal aspect ratio ensures that pie is drawn as a circle.\n",
    "\n",
    "    fig2.savefig('results/{}_result_pie_chart3.png'.format(key), bbox_inches = 'tight')\n",
    "    plt.clf()\n"
   ]
  },
  {
   "cell_type": "code",
   "execution_count": 9,
   "metadata": {},
   "outputs": [
    {
     "data": {
      "text/plain": [
       "<Figure size 432x288 with 0 Axes>"
      ]
     },
     "metadata": {},
     "output_type": "display_data"
    },
    {
     "data": {
      "text/plain": [
       "<Figure size 432x288 with 0 Axes>"
      ]
     },
     "metadata": {},
     "output_type": "display_data"
    },
    {
     "data": {
      "text/plain": [
       "<Figure size 432x288 with 0 Axes>"
      ]
     },
     "metadata": {},
     "output_type": "display_data"
    },
    {
     "data": {
      "text/plain": [
       "<Figure size 432x288 with 0 Axes>"
      ]
     },
     "metadata": {},
     "output_type": "display_data"
    },
    {
     "data": {
      "text/plain": [
       "<Figure size 432x288 with 0 Axes>"
      ]
     },
     "metadata": {},
     "output_type": "display_data"
    },
    {
     "data": {
      "text/plain": [
       "<Figure size 432x288 with 0 Axes>"
      ]
     },
     "metadata": {},
     "output_type": "display_data"
    },
    {
     "data": {
      "text/plain": [
       "<Figure size 432x288 with 0 Axes>"
      ]
     },
     "metadata": {},
     "output_type": "display_data"
    },
    {
     "data": {
      "text/plain": [
       "<Figure size 432x288 with 0 Axes>"
      ]
     },
     "metadata": {},
     "output_type": "display_data"
    },
    {
     "data": {
      "text/plain": [
       "<Figure size 432x288 with 0 Axes>"
      ]
     },
     "metadata": {},
     "output_type": "display_data"
    },
    {
     "data": {
      "text/plain": [
       "<Figure size 432x288 with 0 Axes>"
      ]
     },
     "metadata": {},
     "output_type": "display_data"
    },
    {
     "data": {
      "text/plain": [
       "<Figure size 432x288 with 0 Axes>"
      ]
     },
     "metadata": {},
     "output_type": "display_data"
    },
    {
     "data": {
      "text/plain": [
       "<Figure size 432x288 with 0 Axes>"
      ]
     },
     "metadata": {},
     "output_type": "display_data"
    },
    {
     "data": {
      "text/plain": [
       "<Figure size 432x288 with 0 Axes>"
      ]
     },
     "metadata": {},
     "output_type": "display_data"
    },
    {
     "data": {
      "text/plain": [
       "<Figure size 432x288 with 0 Axes>"
      ]
     },
     "metadata": {},
     "output_type": "display_data"
    },
    {
     "data": {
      "text/plain": [
       "<Figure size 432x288 with 0 Axes>"
      ]
     },
     "metadata": {},
     "output_type": "display_data"
    },
    {
     "data": {
      "text/plain": [
       "<Figure size 432x288 with 0 Axes>"
      ]
     },
     "metadata": {},
     "output_type": "display_data"
    },
    {
     "data": {
      "text/plain": [
       "<Figure size 432x288 with 0 Axes>"
      ]
     },
     "metadata": {},
     "output_type": "display_data"
    }
   ],
   "source": [
    "for key, value in countries_confirmed_dict.items():\n",
    "    \n",
    "    if value > 5:\n",
    "        \n",
    "        get_graph(key)\n",
    "        "
   ]
  },
  {
   "cell_type": "code",
   "execution_count": null,
   "metadata": {},
   "outputs": [],
   "source": []
  }
 ],
 "metadata": {
  "kernelspec": {
   "display_name": "Python 3",
   "language": "python",
   "name": "python3"
  },
  "language_info": {
   "codemirror_mode": {
    "name": "ipython",
    "version": 3
   },
   "file_extension": ".py",
   "mimetype": "text/x-python",
   "name": "python",
   "nbconvert_exporter": "python",
   "pygments_lexer": "ipython3",
   "version": "3.5.5"
  }
 },
 "nbformat": 4,
 "nbformat_minor": 2
}
